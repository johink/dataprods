{
 "cells": [
  {
   "cell_type": "markdown",
   "metadata": {},
   "source": [
    "# Data Products:  Web Applications & Development\n",
    "\n",
    "### Why Web Apps?\n",
    "\n",
    "You're a data scientist, but the predictive models you build won't do much good if they can't be utilized on new data.  While it's perfectly fine to build, test and tune models on your local machine, you don't want Bill from Sales to come knock on your door every time he wants to ask you if his new client is a good credit risk.\n",
    "\n",
    "Web apps are extremely accessible.  Everyone has a web browser, so you could throw together a simple site for Bill to visit and enter the relevant details to get his prediction.  Doesn't sound very scalable?  It's not!  But using the exact same skills with even less work you could make a web API that takes in a .csv of all the new customers, and returns predictions for all of them."
   ]
  },
  {
   "cell_type": "markdown",
   "metadata": {},
   "source": [
    "You've used the 'Net your whole life, but what's really going on there?  What does _http://www.google.com_ actually mean?\n",
    "\n",
    "### The Internet vs. World Wide Web\n",
    "\n",
    "* The Internet is an international network, connecting computers across the world\n",
    "* The World Wide Web is an information-sharing system which you access using a browser"
   ]
  },
  {
   "cell_type": "markdown",
   "metadata": {},
   "source": [
    "### The Language of the Web\n",
    "\n",
    "Communication over the web is governed by the [Hyper-Text Transfer Protocol (HTTP)](https://www.w3.org/Protocols/rfc2616/rfc2616.html).  A client (a web browser acting on your behalf) makes a request to a server, and then receives a response.\n",
    "\n",
    "###### An Example HTTP Request\n",
    "\n",
    "![HTTP Request](httprequest.jpg)\n",
    "\n",
    "###### An Example HTTP Response\n",
    "\n",
    "![HTTP Response](httpresponse.jpg)"
   ]
  },
  {
   "cell_type": "markdown",
   "metadata": {},
   "source": [
    "#### Requests:  \n",
    "\n",
    "There are several different types of requests, but the only ones you need to know are GET and POST [(see here for more)](https://developer.mozilla.org/en-US/docs/Web/HTTP/Methods).\n",
    "\n",
    "* GET asks the server to send you some resource (usually a web page)\n",
    "* POST provides the server some information (like a username & password) for a contextual resource\n",
    "\n",
    "The main difference between these two is that a POST request must have some type of data included, or it will be rejected.  The type of data to include is generally defined by the API (Application Programming Interface) being used.\n",
    "\n",
    "#### Responses:  \n",
    "\n",
    "You may have noticed the first line of the response contains a status code.  There are a few status codes you should be familiar with [(see here for more)](https://www.w3.org/Protocols/rfc2616/rfc2616-sec10.html):\n",
    "\n",
    "* 200 - Everything is good\n",
    "* 400 - Your POST request body was probably missing / not formatted correctly\n",
    "* 401 - You need to authenticate for this request to be allowed\n",
    "* 404 - The server couldn't find what you were looking for\n",
    "* 500 - Something is wrong with your Flask app"
   ]
  },
  {
   "cell_type": "markdown",
   "metadata": {},
   "source": [
    "### The Structure of the Web\n",
    "\n",
    "Websites are generally comprised of three parts:\n",
    "\n",
    "* Hyper-Text Markup Language (HTML) contains the page's content\n",
    "* Cascading Style Sheets (CSS) tells the browser how to display the content\n",
    "* JavaScript (JS) executes in the browser and enables interactivity and many other functionalities"
   ]
  },
  {
   "cell_type": "markdown",
   "metadata": {},
   "source": [
    "### The Evolution of the Web\n",
    "\n",
    "Originally, content on the web was static, and everything was pretty much just HTML.  [This awesome site for the original Jurassic Park](http://www.lost-world.com/Lost_World02/inGENe.html) shows what things were like then.  Sometimes people call this \"Web 1.0\".\n",
    "\n",
    "Over time, people realized that including stylistic content alongside the HTML led to a lot of headaches.  Similar to the concept of normalization in databases, instead of manually defining h3 elements to have green text, it'd be a lot better to just write once that all h3 elements should have green text!  CSS solved this problem, and more.\n",
    "\n",
    "If you examine the Jurassic Park site again, you'll notice that every link you click takes you to a new page.  Without JS, the only way to modify content on the screen was to load an entirely new page!  To combat this, people started using Asynchronous JavaScript and XML (AJAX) calls to dynamically load additional content on the page."
   ]
  },
  {
   "cell_type": "markdown",
   "metadata": {},
   "source": [
    "### HTML\n",
    "\n",
    "###### Basic Tags:\n",
    "\n",
    "* ```<h1>, <h6>, <p>``` - Heading or paragraph text\n",
    "* ```<ul>, <ol>, <li>``` - Unordered list (bullets), ordered list (numbers), item in the list\n",
    "* ```<img>``` - Image\n",
    "* `<input>, <button>, <textarea>` - Elements which take user input [(see more)](https://www.w3schools.com/TagS/att_input_type.asp)\n",
    "* `<div>, <span>` - Denotes subsections of the html\n",
    "* `<a>` - Generates a clickable link\n",
    "\n",
    "###### Basic Attributes:\n",
    "\n",
    "* `src` - Give the source of the image or script\n",
    "* `href` - The target of a link\n",
    "* `type` - The type of an input element.  Many types are available; see above link for more info\n",
    "* `class` - Gives one or more classes to an element.  Usually used with CSS selectors to style content\n",
    "* `id` - Gives an ID to an element.  IDs should be **unique**!  Only one HTML element should have a given ID.  These are usually used in jQuery to select specific elements.\n",
    "\n",
    "HTML is usually well-structured and repetitious.  Generally, templates are generated which are dynamically populated with data.  We will learn more about the Jinja2 templating language which Flask uses shortly."
   ]
  },
  {
   "cell_type": "markdown",
   "metadata": {},
   "source": [
    "### CSS\n",
    "\n",
    "Many CSS properties are available, too many to list!  If interested, [find them here](https://www.w3schools.com/cssref/).\n",
    "\n",
    "The heart of CSS are the selectors.  A selector will apply to any number of elements, and set the CSS properties to the values specified within the selector.  \n",
    "\n",
    "```css\n",
    "#Center all h1 elements\n",
    "h1 {\n",
    "  text-align: center;\n",
    "}\n",
    "\n",
    "#Make all h3 and paragraph elements green\n",
    "h3, p {\n",
    "  color: green;\n",
    "}\n",
    "\n",
    "#Remove the bullets for list items inside of a nav\n",
    "nav li {\n",
    "  text-decoration: none;\n",
    "}\n",
    "\n",
    "#Give the element with ID poster a solid black border of 5 pixels\n",
    "#poster {\n",
    "  border: 5px solid black;\n",
    "}\n",
    "\n",
    "#Find the elements with class subwindow, and make all their table row children have a background color of white\n",
    ".subwindow tr {\n",
    "  background-color: #fff;\n",
    "}\n",
    "```"
   ]
  },
  {
   "cell_type": "markdown",
   "metadata": {},
   "source": [
    "One important thing to note is that the more specific a selector is, the higher a priority is assigned to its values. In this case, paragraphs with the class comment will be justified and blue.\n",
    "\n",
    "```css\n",
    ".comment p {\n",
    "  text-align: justify;\n",
    "}\n",
    "\n",
    "p {\n",
    "  text-align: center;\n",
    "  color: blue;\n",
    "}\n",
    "```"
   ]
  },
  {
   "cell_type": "markdown",
   "metadata": {},
   "source": [
    "One tenet of web design is making sites responsive.  CSS plays a pivotal role in this.  To do so, CSS makes use out of media queries to find out the attributes of the user's device, then applies styles specifically for that device.\n",
    "\n",
    "```css\n",
    "#If the user has a screen and its width is less than or equal to 480 pixels, get rid of all margins and padding and take up the entire width of the screen\n",
    "@media only screen and (max-width: 480px) {\n",
    "  .container {\n",
    "    margin: 0;\n",
    "    padding: 0;\n",
    "    width: 100vw;\n",
    "}\n",
    "```"
   ]
  },
  {
   "cell_type": "markdown",
   "metadata": {},
   "source": [
    "Fortunately, you won't need to do much (or any!) fiddling with CSS to get a great-looking site, as long as you don't want it to do anything too crazy.  CSS templates are freely available online.  I spent one hour altering the HTML for the [Agency Bootstrap theme](https://blackrockdigital.github.io/startbootstrap-agency/), and [this is what I ended up with](http://ambient-insights.live/)."
   ]
  },
  {
   "cell_type": "markdown",
   "metadata": {},
   "source": [
    "### JavaScript\n",
    "\n",
    "JavaScript is very similar to Python in many ways:  They both have dynamic typing, object-orientation, and first-class functions.  The main differences you will notice are in the syntax.  In short:\n",
    "\n",
    "* Python uses whitespace to denote code blocks, while JavaScript uses braces {}\n",
    "* Python uses newlines to indicate the end of an expression, JavaScript uses semicolons\n",
    "* Python doesn't use parentheses for if/while/for, JavaScript does\n",
    "\n",
    "Here is how you would define and call a simple function in both languages:\n",
    "\n",
    "###### Python\n",
    "```python\n",
    "def double(x):\n",
    "  return x * 2\n",
    "\n",
    "for i in range(10):\n",
    "  if double(i) % 10 == 0:\n",
    "    print(i)\n",
    "```\n",
    "\n",
    "###### JavaScript\n",
    "```javascript\n",
    "double = function(x){\n",
    "  return x * 2;\n",
    "};\n",
    "\n",
    "for(i in [0,1,2,3,4,5,6,7,8,9]){\n",
    "  if(double(i) % 10 === 0){\n",
    "    console.log(i);\n",
    "  }\n",
    "}\n",
    "```"
   ]
  },
  {
   "cell_type": "markdown",
   "metadata": {},
   "source": [
    "### jQuery\n",
    "\n",
    "jQuery makes working with JavaScript bearable, because it makes getting and setting values much easier.  It is also very helpful for making GET and POST requests.\n",
    "\n",
    "jQuery makes extensive use of the $ operator.  It is basically the same as writing jQuery.something.\n",
    "\n",
    "``` javascript\n",
    "//Grab the element with the ID of hello and set its value to \"Goodbye\"\n",
    "$(\"#hello\").val(\"Goodbye\");\n",
    "\n",
    "//Show all elements with the class hidden\n",
    "$(\".hidden\").show();\n",
    "\n",
    "//Query the Bungie Destiny2 API for details on a particular battle and pass to the displaydetails function\n",
    "$.get({\n",
    "  url: 'https://www.bungie/d1/Platform/Destiny/Stats/PostGameCarnageReport/f1ae21728a/',\n",
    "  success: function(result){\n",
    "    displaydetails(result);\n",
    "  }\n",
    "});\n",
    "\n",
    "//POST to the Destiny2 API telling it to equip a piece of gear on a character\n",
    "$.post({\n",
    "  url: 'http://www.bungie.net/d1/Platform/Destiny/EquipItem/',\n",
    "  data: {\n",
    "    \"itemId\": \"1234\",\n",
    "    \"characterId\": \"51412\",\n",
    "    \"membershipType\": 0\n",
    "  },\n",
    "  headers: {\n",
    "    'X-API-Key': '17E792624C2A43E29356B8A79EEDA64A'\n",
    "  },\n",
    "  success: function(result){\n",
    "    alert(\"Item equipped!\")\n",
    "  }\n",
    "});\n",
    "```"
   ]
  },
  {
   "cell_type": "markdown",
   "metadata": {},
   "source": [
    "### A Modern Web Framework:  Model-View-Controller (MVC)\n",
    "\n",
    "Much like how HTML, CSS, and JavaScript divide up the work to create a website, the MVC framework divides up a web application into three parts:\n",
    "\n",
    "* The model contains the data and methods for interacting with the data\n",
    "* The view contains everything that the user directly interacts with\n",
    "* The controller interfaces with both the model and view\n",
    "\n",
    "The model layer you are already familiar with; you would probably create a class which uses a database driver (psycopg2, pymongo, etc) and provides a convenient API for the controller to do the tasks it needs to do.\n",
    "\n",
    "The view layer is comprised of the technologies we just discussed:  HTML/CSS/JavaScript.\n",
    "\n",
    "For us, the controller layer will be handled by Flask, a very lightweight Python library.\n",
    "\n",
    "### Flask\n",
    "\n",
    "Flask will field HTTP requests for you, but it needs to know what requests to accept, and what to do when it gets those requests.  These are called routes, and they are equivalent to the URL that the request is for.  Here is the \"Hello, World!\" of Flask:\n",
    "\n",
    "``` python\n",
    "@app.route('/', methods=['GET'])\n",
    "def index():\n",
    "    return render_template('index.html')\n",
    "```\n",
    "\n",
    "Let's break that down:\n",
    "\n",
    "* @app.route is a Python decorator, kind of an advanced Python topic.  Basically, it takes in the function below it and returns the same function after having modified it in some way\n",
    "* The first argument to app.route indicates the URL which will fire this route.  '/' corresponds to the root, which is implicitly mapped to index.html on all websites\n",
    "* Methods tells Flask what types of methods (GET/POST) it should allow at the specified URL\n",
    "* Then, a function is defined, which ultimately returns either a string or an HTML template"
   ]
  },
  {
   "cell_type": "markdown",
   "metadata": {},
   "source": []
  }
 ],
 "metadata": {
  "kernelspec": {
   "display_name": "Python [conda root]",
   "language": "python",
   "name": "conda-root-py"
  },
  "language_info": {
   "codemirror_mode": {
    "name": "ipython",
    "version": 3
   },
   "file_extension": ".py",
   "mimetype": "text/x-python",
   "name": "python",
   "nbconvert_exporter": "python",
   "pygments_lexer": "ipython3",
   "version": "3.5.3"
  }
 },
 "nbformat": 4,
 "nbformat_minor": 2
}
